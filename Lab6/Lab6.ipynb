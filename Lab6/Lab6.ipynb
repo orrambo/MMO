{
 "cells": [
  {
   "cell_type": "code",
   "execution_count": 1,
   "id": "e75bafde-b3a6-49a4-9c6e-2470b0f5f7c8",
   "metadata": {},
   "outputs": [],
   "source": [
    "from sklearn.datasets import fetch_20newsgroups\n",
    "import pandas as pd\n",
    "\n",
    "# Загружаем данные (тексты и метки)\n",
    "categories = ['alt.atheism', 'comp.graphics', 'sci.med', 'soc.religion.christian']\n",
    "newsgroups_train = fetch_20newsgroups(subset='train', categories=categories, remove=('headers','footers','quotes'))\n",
    "newsgroups_test = fetch_20newsgroups(subset='test', categories=categories, remove=('headers','footers','quotes'))\n",
    "\n",
    "X_train = newsgroups_train.data\n",
    "y_train = newsgroups_train.target\n",
    "X_test = newsgroups_test.data\n",
    "y_test = newsgroups_test.target"
   ]
  },
  {
   "cell_type": "code",
   "execution_count": 2,
   "id": "80d43864-6842-4834-b00b-5a898bf1db20",
   "metadata": {},
   "outputs": [
    {
     "name": "stdout",
     "output_type": "stream",
     "text": [
      "Отчет по классификации (TF-IDF + LogisticRegression):\n",
      "                        precision    recall  f1-score   support\n",
      "\n",
      "           alt.atheism       0.80      0.56      0.66       319\n",
      "         comp.graphics       0.90      0.93      0.92       389\n",
      "               sci.med       0.80      0.91      0.85       396\n",
      "soc.religion.christian       0.79      0.84      0.81       398\n",
      "\n",
      "              accuracy                           0.82      1502\n",
      "             macro avg       0.82      0.81      0.81      1502\n",
      "          weighted avg       0.82      0.82      0.82      1502\n",
      "\n"
     ]
    }
   ],
   "source": [
    "from sklearn.feature_extraction.text import TfidfVectorizer\n",
    "from sklearn.linear_model import LogisticRegression\n",
    "from sklearn.pipeline import Pipeline\n",
    "from sklearn.metrics import classification_report\n",
    "\n",
    "# Создаем пайплайн: TF-IDF + логистическая регрессия\n",
    "pipeline_tfidf = Pipeline([\n",
    "    ('tfidf', TfidfVectorizer(stop_words='english', max_df=0.7)),\n",
    "    ('clf', LogisticRegression(max_iter=1000))\n",
    "])\n",
    "\n",
    "# Обучаем модель\n",
    "pipeline_tfidf.fit(X_train, y_train)\n",
    "\n",
    "# Предсказание и оценка\n",
    "y_pred_tfidf = pipeline_tfidf.predict(X_test)\n",
    "print(\"Отчет по классификации (TF-IDF + LogisticRegression):\")\n",
    "print(classification_report(y_test, y_pred_tfidf, target_names=categories))"
   ]
  },
  {
   "cell_type": "code",
   "execution_count": 3,
   "id": "52333007-95e0-492b-b902-d3cc96876b64",
   "metadata": {},
   "outputs": [],
   "source": [
    "from gensim.models import KeyedVectors\n",
    "\n",
    "# Укажите путь к файлу с моделью fastText\n",
    "model_path = r\"C:\\Users\\artem\\OneDrive\\Рабочий стол\\Бомонка\\Мага\\2 семестр\\MMO\\Lab6\\wiki-news-300d-1M.vec\"\n",
    "\n",
    "# Загрузка модели (если .vec — текстовый формат, если .bin — binary=True)\n",
    "fasttext_model = KeyedVectors.load_word2vec_format(model_path, binary=False)"
   ]
  },
  {
   "cell_type": "code",
   "execution_count": 6,
   "id": "73bc8734-2462-4b20-8618-1680b03fbc49",
   "metadata": {},
   "outputs": [],
   "source": [
    "import numpy as np\n",
    "from sklearn.base import TransformerMixin, BaseEstimator\n",
    "\n",
    "class FastTextVectorizer(BaseEstimator, TransformerMixin):\n",
    "    def __init__(self, model):\n",
    "        self.model = model\n",
    "        self.dim = model.vector_size\n",
    "    \n",
    "    def fit(self, X, y=None):\n",
    "        return self\n",
    "    \n",
    "    def transform(self, X):\n",
    "        vectors = []\n",
    "        for doc in X:\n",
    "            words = doc.lower().split()\n",
    "            word_vecs = [self.model[word] for word in words if word in self.model]\n",
    "            if word_vecs:\n",
    "                vectors.append(np.mean(word_vecs, axis=0))\n",
    "            else:\n",
    "                vectors.append(np.zeros(self.dim))\n",
    "        return np.array(vectors)"
   ]
  },
  {
   "cell_type": "code",
   "execution_count": 7,
   "id": "0749da76-02ad-41cd-8c34-c8fe8893d262",
   "metadata": {},
   "outputs": [
    {
     "name": "stdout",
     "output_type": "stream",
     "text": [
      "Отчет по классификации (fastText + LogisticRegression):\n",
      "                        precision    recall  f1-score   support\n",
      "\n",
      "           alt.atheism       0.66      0.37      0.47       319\n",
      "         comp.graphics       0.85      0.90      0.88       389\n",
      "               sci.med       0.82      0.85      0.84       396\n",
      "soc.religion.christian       0.67      0.85      0.75       398\n",
      "\n",
      "              accuracy                           0.76      1502\n",
      "             macro avg       0.75      0.74      0.73      1502\n",
      "          weighted avg       0.76      0.76      0.75      1502\n",
      "\n"
     ]
    }
   ],
   "source": [
    "from sklearn.linear_model import LogisticRegression\n",
    "from sklearn.metrics import classification_report\n",
    "\n",
    "# Преобразуем тексты в векторы\n",
    "X_train_vec = FastTextVectorizer(fasttext_model).fit_transform(X_train)\n",
    "X_test_vec = FastTextVectorizer(fasttext_model).transform(X_test)\n",
    "\n",
    "# Обучаем классификатор\n",
    "clf = LogisticRegression(max_iter=1000)\n",
    "clf.fit(X_train_vec, y_train)\n",
    "\n",
    "# Предсказания и отчет\n",
    "y_pred = clf.predict(X_test_vec)\n",
    "print(\"Отчет по классификации (fastText + LogisticRegression):\")\n",
    "print(classification_report(y_test, y_pred, target_names=categories))\n"
   ]
  },
  {
   "cell_type": "code",
   "execution_count": null,
   "id": "c3a7cbae-88c1-4aa8-bc0f-f76f7ba74a85",
   "metadata": {},
   "outputs": [],
   "source": []
  }
 ],
 "metadata": {
  "kernelspec": {
   "display_name": "Python 3 (ipykernel)",
   "language": "python",
   "name": "python3"
  },
  "language_info": {
   "codemirror_mode": {
    "name": "ipython",
    "version": 3
   },
   "file_extension": ".py",
   "mimetype": "text/x-python",
   "name": "python",
   "nbconvert_exporter": "python",
   "pygments_lexer": "ipython3",
   "version": "3.9.13"
  }
 },
 "nbformat": 4,
 "nbformat_minor": 5
}
