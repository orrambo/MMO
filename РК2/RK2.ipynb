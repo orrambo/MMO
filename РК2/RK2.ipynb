{
 "cells": [
  {
   "cell_type": "markdown",
   "id": "d9557649-30c7-40fb-a0f5-58547f9f45d7",
   "metadata": {},
   "source": [
    "# Рубежный контроль №2. Милевич Артём ИУ5-23М\n",
    "### Тема: Методы обработки текстов\n",
    "Необходимо решить задачу классификации текстов на основе любого выбранного Вами датасета (SMSSpamCollection). Классификация может быть бинарной или многоклассовой. Целевой признак из выбранного Вами датасета может иметь любой физический смысл, примером является задача анализа тональности текста.\n",
    "\n",
    "Необходимо сформировать два варианта векторизации признаков - на основе CountVectorizer и на основе TfidfVectorizer.\n",
    "\n",
    "В качестве классификаторов необходимо использовать два классификатора: LinearSVC, LogisticRegression."
   ]
  },
  {
   "cell_type": "code",
   "execution_count": 6,
   "id": "11b08532-cdcd-425e-a6e6-43f026649e4f",
   "metadata": {},
   "outputs": [],
   "source": [
    "import pandas as pd\n",
    "from sklearn.model_selection import train_test_split\n",
    "from sklearn.feature_extraction.text import CountVectorizer, TfidfVectorizer\n",
    "from sklearn.svm import LinearSVC\n",
    "from sklearn.linear_model import LogisticRegression\n",
    "from sklearn.metrics import classification_report, accuracy_score"
   ]
  },
  {
   "cell_type": "markdown",
   "id": "47be896c-e0c5-4dc0-a400-cdec9614266d",
   "metadata": {},
   "source": [
    "### 1. Загрузка данных"
   ]
  },
  {
   "cell_type": "code",
   "execution_count": 7,
   "id": "d2143d32-6e5a-4404-8fe6-95adc714a8d5",
   "metadata": {},
   "outputs": [],
   "source": [
    "df = pd.read_csv('../SMSSpamCollection', sep='\\t', header=None, names=['label', 'text'])"
   ]
  },
  {
   "cell_type": "markdown",
   "id": "b164e590-773b-42f3-a370-df77114937af",
   "metadata": {},
   "source": [
    "Преобразуем метки в бинарный формат: ham=0, spam=1"
   ]
  },
  {
   "cell_type": "code",
   "execution_count": 8,
   "id": "948b4927-24ab-45ab-9b27-a4ac1c458b29",
   "metadata": {},
   "outputs": [],
   "source": [
    "df['label_num'] = df['label'].map({'ham':0, 'spam':1})"
   ]
  },
  {
   "cell_type": "markdown",
   "id": "b2b132b8-2b70-4eb4-8e58-ec24e5380231",
   "metadata": {},
   "source": [
    "### 2. Разделение на обучающую и тестовую выборки"
   ]
  },
  {
   "cell_type": "code",
   "execution_count": 9,
   "id": "40ef0dee-1bd6-4436-9bd1-aacf27118098",
   "metadata": {},
   "outputs": [],
   "source": [
    "X_train, X_test, y_train, y_test = train_test_split(\n",
    "    df['text'], df['label_num'], test_size=0.2, random_state=42, stratify=df['label_num']\n",
    ")"
   ]
  },
  {
   "cell_type": "markdown",
   "id": "771afd24-7a4a-4203-ad57-4044b94bfd1c",
   "metadata": {},
   "source": [
    "### 3. Определяем векторизаторы"
   ]
  },
  {
   "cell_type": "code",
   "execution_count": 10,
   "id": "e73b57f5-a4fa-4a7e-9ecc-6181e78cb9ae",
   "metadata": {},
   "outputs": [],
   "source": [
    "vectorizers = {\n",
    "    'CountVectorizer': CountVectorizer(),\n",
    "    'TfidfVectorizer': TfidfVectorizer()\n",
    "}"
   ]
  },
  {
   "cell_type": "markdown",
   "id": "d0a708a4-3c36-43b8-9507-4ba3cd84d0d9",
   "metadata": {},
   "source": [
    "### 4. Обучение и оценка моделей"
   ]
  },
  {
   "cell_type": "code",
   "execution_count": 11,
   "id": "411b8513-b8d6-405d-8048-74381bc75651",
   "metadata": {},
   "outputs": [],
   "source": [
    "results = {}\n",
    "\n",
    "for vect_name, vect in vectorizers.items():\n",
    "    # Векторизация текста\n",
    "    X_train_vect = vect.fit_transform(X_train)\n",
    "    X_test_vect = vect.transform(X_test)\n",
    "    \n",
    "    # LinearSVC\n",
    "    svc = LinearSVC(random_state=42)\n",
    "    svc.fit(X_train_vect, y_train)\n",
    "    y_pred_svc = svc.predict(X_test_vect)\n",
    "    acc_svc = accuracy_score(y_test, y_pred_svc)\n",
    "    report_svc = classification_report(y_test, y_pred_svc, target_names=['ham', 'spam'])\n",
    "    results[f'{vect_name} + LinearSVC'] = (acc_svc, report_svc)\n",
    "    \n",
    "    # LogisticRegression\n",
    "    lr = LogisticRegression(max_iter=1000, random_state=42)\n",
    "    lr.fit(X_train_vect, y_train)\n",
    "    y_pred_lr = lr.predict(X_test_vect)\n",
    "    acc_lr = accuracy_score(y_test, y_pred_lr)\n",
    "    report_lr = classification_report(y_test, y_pred_lr, target_names=['ham', 'spam'])\n",
    "    results[f'{vect_name} + LogisticRegression'] = (acc_lr, report_lr)"
   ]
  },
  {
   "cell_type": "markdown",
   "id": "f20410da-7475-4567-95bd-5878561872da",
   "metadata": {},
   "source": [
    "### 5. Вывод результатов"
   ]
  },
  {
   "cell_type": "code",
   "execution_count": 12,
   "id": "bf6a5a32-9e45-4c13-a279-f270ac04e19e",
   "metadata": {},
   "outputs": [
    {
     "name": "stdout",
     "output_type": "stream",
     "text": [
      "=== Модель: CountVectorizer + LinearSVC ===\n",
      "Точность (accuracy): 0.9830\n",
      "Отчёт по классификации:\n",
      "              precision    recall  f1-score   support\n",
      "\n",
      "         ham       0.98      1.00      0.99       966\n",
      "        spam       1.00      0.87      0.93       149\n",
      "\n",
      "    accuracy                           0.98      1115\n",
      "   macro avg       0.99      0.94      0.96      1115\n",
      "weighted avg       0.98      0.98      0.98      1115\n",
      "\n",
      "\n",
      "------------------------------------------------------------\n",
      "\n",
      "=== Модель: CountVectorizer + LogisticRegression ===\n",
      "Точность (accuracy): 0.9812\n",
      "Отчёт по классификации:\n",
      "              precision    recall  f1-score   support\n",
      "\n",
      "         ham       0.98      1.00      0.99       966\n",
      "        spam       1.00      0.86      0.92       149\n",
      "\n",
      "    accuracy                           0.98      1115\n",
      "   macro avg       0.99      0.93      0.96      1115\n",
      "weighted avg       0.98      0.98      0.98      1115\n",
      "\n",
      "\n",
      "------------------------------------------------------------\n",
      "\n",
      "=== Модель: TfidfVectorizer + LinearSVC ===\n",
      "Точность (accuracy): 0.9848\n",
      "Отчёт по классификации:\n",
      "              precision    recall  f1-score   support\n",
      "\n",
      "         ham       0.98      1.00      0.99       966\n",
      "        spam       0.99      0.90      0.94       149\n",
      "\n",
      "    accuracy                           0.98      1115\n",
      "   macro avg       0.98      0.95      0.97      1115\n",
      "weighted avg       0.98      0.98      0.98      1115\n",
      "\n",
      "\n",
      "------------------------------------------------------------\n",
      "\n",
      "=== Модель: TfidfVectorizer + LogisticRegression ===\n",
      "Точность (accuracy): 0.9731\n",
      "Отчёт по классификации:\n",
      "              precision    recall  f1-score   support\n",
      "\n",
      "         ham       0.97      1.00      0.98       966\n",
      "        spam       1.00      0.80      0.89       149\n",
      "\n",
      "    accuracy                           0.97      1115\n",
      "   macro avg       0.98      0.90      0.94      1115\n",
      "weighted avg       0.97      0.97      0.97      1115\n",
      "\n",
      "\n",
      "------------------------------------------------------------\n",
      "\n"
     ]
    }
   ],
   "source": [
    "for model_name, (acc, report) in results.items():\n",
    "    print(f'=== Модель: {model_name} ===')\n",
    "    print(f'Точность (accuracy): {acc:.4f}')\n",
    "    print('Отчёт по классификации:')\n",
    "    print(report)\n",
    "    print('\\n' + '-'*60 + '\\n')"
   ]
  },
  {
   "cell_type": "markdown",
   "id": "d2e6bdda-1508-4a65-9efe-eee54e408ea5",
   "metadata": {},
   "source": [
    "### Выводы по результатам классификации SMS Spam Collection\n",
    "1. Высокая точность всех моделей\n",
    "    - Все четыре модели продемонстрировали высокую точность (accuracy) — от 97.3% до 98.5%, что говорит о том, что выбранные методы векторизации и классификации хорошо справляются с задачей бинарной классификации спам/не спам.\n",
    "\n",
    "2. Сравнение векторизаций\n",
    "    - Модели с TfidfVectorizer показали чуть более высокую точность и лучшие метрики recall и f1-score для класса спам по сравнению с CountVectorizer, особенно заметно у LinearSVC (accuracy 98.48% против 98.30%).\n",
    "    - Это объясняется тем, что TF-IDF учитывает важность слов в контексте всего корпуса, что помогает лучше выделять характерные признаки спама.\n",
    "\n",
    "3. Сравнение классификаторов\n",
    "    - LinearSVC в сочетании с TfidfVectorizer дал наилучший результат по recall (0.90) и f1-score (0.94) для класса спам, что важно, так как пропуск спам-сообщений нежелателен.\n",
    "    - LogisticRegression показал немного меньшие показатели по recall для спама, особенно с TfidfVectorizer (0.80), что может означать больше пропущенных спам-сообщений.\n",
    "\n",
    "4. Баланс precision и recall\n",
    "    - Все модели демонстрируют очень высокий precision для класса спам (около 0.99–1.00), то есть почти все предсказанные спам-сообщения действительно являются спамом.\n",
    "    - Recall для спама чуть ниже, что указывает на некоторый процент пропущенных спам-сообщений, но в целом результаты остаются очень хорошими.\n",
    "\n",
    "5. Рекомендации\n",
    "    - Для задач, где важно минимизировать пропуск спама, рекомендуется использовать LinearSVC с TfidfVectorizer.\n",
    "    - Если важна простота и скорость, CountVectorizer с LinearSVC или LogisticRegression также дают достойные результаты.\n",
    "\n",
    "6. Общее заключение\n",
    "    - Данные результаты подтверждают, что классические методы векторизации и линейные модели остаются эффективными для текстовой классификации на небольших и средних датасетах. Векторизация с помощью TF-IDF улучшает качество распознавания за счёт более информативного представления текста."
   ]
  },
  {
   "cell_type": "code",
   "execution_count": null,
   "id": "3611cdd6-46f7-4316-8bb1-d6bdd75c82a6",
   "metadata": {},
   "outputs": [],
   "source": []
  }
 ],
 "metadata": {
  "kernelspec": {
   "display_name": "Python 3 (ipykernel)",
   "language": "python",
   "name": "python3"
  },
  "language_info": {
   "codemirror_mode": {
    "name": "ipython",
    "version": 3
   },
   "file_extension": ".py",
   "mimetype": "text/x-python",
   "name": "python",
   "nbconvert_exporter": "python",
   "pygments_lexer": "ipython3",
   "version": "3.9.13"
  }
 },
 "nbformat": 4,
 "nbformat_minor": 5
}
