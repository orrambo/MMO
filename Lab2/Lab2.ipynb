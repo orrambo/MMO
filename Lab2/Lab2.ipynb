{
 "cells": [
  {
   "cell_type": "markdown",
   "id": "2e44789d-a73f-4556-88b2-8e8bbe12bcfb",
   "metadata": {},
   "source": [
    "# Лабораторная работа №2. Милевич Артём ИУ5-23М\n",
    "### Цель работы\n",
    "Изучение продвинутых способов предварительной обработки данных для дальнейшего формирования моделей.\n",
    "### Задание\n",
    "1) Выбрать набор данных (датасет), содержащий категориальные и числовые признаки и пропуски в данных. Для выполнения следующих пунктов можно использовать несколько различных наборов данных (один для обработки пропусков, другой для категориальных признаков и т.д.) Просьба не использовать датасет, на котором данная задача решалась в лекции.\n",
    "2) Для выбранного датасета (датасетов) на основе материалов лекций решить следующие задачи:\n",
    "устранение пропусков в данных,\n",
    "кодирование категориальных признаков,\n",
    "нормализация числовых признаков."
   ]
  },
  {
   "cell_type": "markdown",
   "id": "5e7306b8-aae5-4cfb-abf3-0859c2ea745f",
   "metadata": {},
   "source": [
    "## Ход работы"
   ]
  },
  {
   "cell_type": "code",
   "execution_count": 45,
   "id": "18cda9bd-685a-4978-95a9-ee393a3c7c4c",
   "metadata": {},
   "outputs": [
    {
     "name": "stdout",
     "output_type": "stream",
     "text": [
      "<class 'pandas.core.frame.DataFrame'>\n",
      "RangeIndex: 245 entries, 0 to 244\n",
      "Data columns (total 9 columns):\n",
      " #   Column            Non-Null Count  Dtype  \n",
      "---  ------            --------------  -----  \n",
      " 0   Transaction ID    245 non-null    object \n",
      " 1   Date              244 non-null    object \n",
      " 2   Product Category  239 non-null    object \n",
      " 3   Product Name      244 non-null    object \n",
      " 4   Units Sold        239 non-null    float64\n",
      " 5   Unit Price        239 non-null    float64\n",
      " 6   Total Revenue     239 non-null    float64\n",
      " 7   Region            239 non-null    object \n",
      " 8   Payment Method    239 non-null    object \n",
      "dtypes: float64(3), object(6)\n",
      "memory usage: 17.4+ KB\n",
      "None\n",
      "\n",
      "Пропуски:\n",
      " Transaction ID      0\n",
      "Date                1\n",
      "Product Category    6\n",
      "Product Name        1\n",
      "Units Sold          6\n",
      "Unit Price          6\n",
      "Total Revenue       6\n",
      "Region              6\n",
      "Payment Method      6\n",
      "dtype: int64\n",
      "\n",
      "Категориальные признаки:\n",
      " Transaction ID      245\n",
      "Date                239\n",
      "Product Category      6\n",
      "Product Name        232\n",
      "Region                3\n",
      "Payment Method        3\n",
      "dtype: int64\n"
     ]
    }
   ],
   "source": [
    "import pandas as pd\n",
    "import numpy as np\n",
    "from sklearn.preprocessing import StandardScaler, OneHotEncoder\n",
    "from sklearn.impute import SimpleImputer\n",
    "\n",
    "# Загрузка данных\n",
    "df = pd.read_csv('Online Sales Data.csv')\n",
    "\n",
    "# Проверка структуры\n",
    "print(df.info())\n",
    "print(\"\\nПропуски:\\n\", df.isnull().sum())\n",
    "print(\"\\nКатегориальные признаки:\\n\", df.select_dtypes(include='object').nunique())"
   ]
  },
  {
   "cell_type": "markdown",
   "id": "76f41e6e-0294-4a22-a6a6-3031c4faff95",
   "metadata": {},
   "source": [
    "Удаление "
   ]
  },
  {
   "cell_type": "code",
   "execution_count": 46,
   "id": "b24580c6-0188-4d0c-bb6c-07d2f7c6d492",
   "metadata": {},
   "outputs": [
    {
     "name": "stdout",
     "output_type": "stream",
     "text": [
      "\n",
      "Пропуски после обработки:\n",
      " Transaction ID      0\n",
      "Date                0\n",
      "Product Category    0\n",
      "Product Name        0\n",
      "Units Sold          0\n",
      "Unit Price          0\n",
      "Total Revenue       0\n",
      "Region              0\n",
      "Payment Method      0\n",
      "dtype: int64\n"
     ]
    }
   ],
   "source": [
    "# Числовые признаки (заполняем медианой)\n",
    "num_cols = ['Units Sold', 'Unit Price', 'Total Revenue']\n",
    "df[num_cols] = df[num_cols].fillna(df[num_cols].median())\n",
    "\n",
    "# Категориальные признаки (заполняем модой)\n",
    "cat_cols = ['Product Category', 'Payment Method', 'Region', 'Product Name', 'Date']\n",
    "for col in cat_cols:\n",
    "    df[col] = df[col].fillna(df[col].mode()[0])\n",
    "\n",
    "# Проверка результата\n",
    "print(\"\\nПропуски после обработки:\\n\", df.isnull().sum())"
   ]
  },
  {
   "cell_type": "markdown",
   "id": "4989b4a6-3335-4f03-b93a-4f29c176e200",
   "metadata": {},
   "source": [
    "Label Encoding для порядковых признаков:"
   ]
  },
  {
   "cell_type": "code",
   "execution_count": 47,
   "id": "933d10f8-e22b-4e86-9306-8476cdead92f",
   "metadata": {},
   "outputs": [],
   "source": [
    "from sklearn.preprocessing import LabelEncoder\n",
    "le = LabelEncoder()\n",
    "df['Payment Method'] = le.fit_transform(df['Payment Method'])\n",
    "df['Product Category'] = le.fit_transform(df['Product Category'])\n",
    "df['Region'] = le.fit_transform(df['Region'])"
   ]
  },
  {
   "cell_type": "markdown",
   "id": "0d112c4d-c6be-4e74-aefe-05c888b2e993",
   "metadata": {},
   "source": [
    "Robust Scaling для Total Revenue"
   ]
  },
  {
   "cell_type": "code",
   "execution_count": 48,
   "id": "2c279879-748d-4baa-a72e-36c65f6e461f",
   "metadata": {},
   "outputs": [
    {
     "name": "stdout",
     "output_type": "stream",
     "text": [
      "       Total Revenue  Total Revenue Scaled\n",
      "count     245.000000            245.000000\n",
      "mean      332.815102              0.458925\n",
      "std       481.191488              1.444803\n",
      "min         6.500000             -0.520853\n",
      "25%        64.950000             -0.345354\n",
      "50%       179.970000              0.000000\n",
      "75%       398.000000              0.654646\n",
      "max      3899.990000             11.169554\n"
     ]
    }
   ],
   "source": [
    "from sklearn.preprocessing import RobustScaler\n",
    "\n",
    "# Инициализация scaler\n",
    "scaler = RobustScaler()\n",
    "\n",
    "# Нормализация только Total Price\n",
    "df['Total Revenue Scaled'] = scaler.fit_transform(df[['Total Revenue']])\n",
    "\n",
    "# Проверка результата\n",
    "print(df[['Total Revenue', 'Total Revenue Scaled']].describe())"
   ]
  },
  {
   "cell_type": "code",
   "execution_count": 49,
   "id": "32268715-660e-4c0a-a117-952c1eddc212",
   "metadata": {},
   "outputs": [
    {
     "data": {
      "image/png": "[encoded data removed]",
      "text/plain": [
       "<Figure size 1200x600 with 2 Axes>"
      ]
     },
     "metadata": {},
     "output_type": "display_data"
    }
   ],
   "source": [
    "import matplotlib.pyplot as plt\n",
    "\n",
    "plt.figure(figsize=(12, 6))\n",
    "\n",
    "# До обработки\n",
    "plt.subplot(1, 2, 1)\n",
    "plt.hist(df['Total Revenue'], bins=30, color='blue', alpha=0.7)\n",
    "plt.title('Распределение до нормализации')\n",
    "plt.xlabel('Total Revenue')\n",
    "\n",
    "# После обработки\n",
    "plt.subplot(1, 2, 2)\n",
    "plt.hist(df['Total Revenue Scaled'], bins=30, color='green', alpha=0.7)\n",
    "plt.title('Распределение после Robust Scaling')\n",
    "plt.xlabel('Scaled Total Revenue')\n",
    "\n",
    "plt.tight_layout()\n",
    "plt.show()"
   ]
  },
  {
   "cell_type": "code",
   "execution_count": 50,
   "id": "e8615a44-f897-447d-b93b-086b7ca87ca0",
   "metadata": {},
   "outputs": [
    {
     "name": "stdout",
     "output_type": "stream",
     "text": [
      "  Transaction ID        Date  Product Category             Product Name  \\\n",
      "0          10001  2024-01-01                 3            iPhone 14 Pro   \n",
      "1          10002  2024-01-02                 4         Dyson V11 Vacuum   \n",
      "2          10003  2024-01-03                 2         Levi's 501 Jeans   \n",
      "3          10004  2024-01-04                 1        The Da Vinci Code   \n",
      "4          10005  2024-01-05                 0  Neutrogena Skincare Set   \n",
      "\n",
      "   Units Sold  Unit Price  Total Revenue  Region  Payment Method  \\\n",
      "0         2.0      999.99        1999.98       2               0   \n",
      "1         1.0      499.99         499.99       1               2   \n",
      "2         3.0       69.99         209.97       0               1   \n",
      "3         4.0       15.99          63.96       2               0   \n",
      "4         1.0       89.99          89.99       1               2   \n",
      "\n",
      "   Total Revenue Scaled  \n",
      "0              5.464675  \n",
      "1              0.960877  \n",
      "2              0.090077  \n",
      "3             -0.348326  \n",
      "4             -0.270170  \n",
      "<class 'pandas.core.frame.DataFrame'>\n",
      "RangeIndex: 245 entries, 0 to 244\n",
      "Data columns (total 10 columns):\n",
      " #   Column                Non-Null Count  Dtype  \n",
      "---  ------                --------------  -----  \n",
      " 0   Transaction ID        245 non-null    object \n",
      " 1   Date                  245 non-null    object \n",
      " 2   Product Category      245 non-null    int64  \n",
      " 3   Product Name          245 non-null    object \n",
      " 4   Units Sold            245 non-null    float64\n",
      " 5   Unit Price            245 non-null    float64\n",
      " 6   Total Revenue         245 non-null    float64\n",
      " 7   Region                245 non-null    int64  \n",
      " 8   Payment Method        245 non-null    int64  \n",
      " 9   Total Revenue Scaled  245 non-null    float64\n",
      "dtypes: float64(4), int64(3), object(3)\n",
      "memory usage: 19.3+ KB\n",
      "None\n"
     ]
    }
   ],
   "source": [
    "print(df.head())\n",
    "print(df.info())"
   ]
  },
  {
   "cell_type": "markdown",
   "id": "44c322b0-90b1-43ef-98f7-2453187930dd",
   "metadata": {},
   "source": [
    "## Вывод\n",
    "В ходе работы данные были успешно подготовлены для анализа: пропуски заполнены медианой и модой, категориальные признаки закодированы через Label Encoding, а выручка нормализована с помощью устойчивого к выбросам Robust Scaling. Полученный датасет теперь корректно отражает структуру продаж без искажающего влияния аномалий и пропущенных значений."
   ]
  }
 ],
 "metadata": {
  "kernelspec": {
   "display_name": "Python 3 (ipykernel)",
   "language": "python",
   "name": "python3"
  },
  "language_info": {
   "codemirror_mode": {
    "name": "ipython",
    "version": 3
   },
   "file_extension": ".py",
   "mimetype": "text/x-python",
   "name": "python",
   "nbconvert_exporter": "python",
   "pygments_lexer": "ipython3",
   "version": "3.9.13"
  }
 },
 "nbformat": 4,
 "nbformat_minor": 5
}
